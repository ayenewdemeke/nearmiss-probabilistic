{
 "cells": [
  {
   "cell_type": "markdown",
   "id": "1c77a731",
   "metadata": {},
   "source": [
    "### Import Libraries"
   ]
  },
  {
   "cell_type": "code",
   "execution_count": 1,
   "id": "ad854dd8",
   "metadata": {},
   "outputs": [],
   "source": [
    "import numpy as np\n",
    "from scipy import stats\n",
    "import matplotlib.pyplot as plt"
   ]
  },
  {
   "cell_type": "code",
   "execution_count": 2,
   "id": "023625b6",
   "metadata": {},
   "outputs": [],
   "source": [
    "worker_pos = np.array([10, 15])\n",
    "worker_vel = np.array([2, -1])\n",
    "worker_uncertainty = 3"
   ]
  },
  {
   "cell_type": "code",
   "execution_count": 3,
   "id": "692194c6",
   "metadata": {},
   "outputs": [],
   "source": [
    "equip_pos = np.array([30, 5])\n",
    "equip_vel = np.array([-1, 1])\n",
    "equip_uncertainty = 4"
   ]
  },
  {
   "cell_type": "code",
   "execution_count": null,
   "id": "5c75380a",
   "metadata": {},
   "outputs": [],
   "source": []
  }
 ],
 "metadata": {
  "kernelspec": {
   "display_name": "Python 3 (ipykernel)",
   "language": "python",
   "name": "python3"
  },
  "language_info": {
   "codemirror_mode": {
    "name": "ipython",
    "version": 3
   },
   "file_extension": ".py",
   "mimetype": "text/x-python",
   "name": "python",
   "nbconvert_exporter": "python",
   "pygments_lexer": "ipython3",
   "version": "3.10.4"
  }
 },
 "nbformat": 4,
 "nbformat_minor": 5
}
